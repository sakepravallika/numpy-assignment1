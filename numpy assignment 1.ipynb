{
 "cells": [
  {
   "cell_type": "code",
   "execution_count": 2,
   "id": "1e2a4bb5",
   "metadata": {},
   "outputs": [],
   "source": [
    "import numpy as np\n"
   ]
  },
  {
   "cell_type": "markdown",
   "id": "889944f7",
   "metadata": {},
   "source": [
    "1. Write a program to create a 5 dimensional array with all zeros and ones\n"
   ]
  },
  {
   "cell_type": "code",
   "execution_count": 3,
   "id": "64ad17c2",
   "metadata": {},
   "outputs": [
    {
     "name": "stdout",
     "output_type": "stream",
     "text": [
      "[[[[[0. 0. 0.]\n",
      "    [0. 0. 0.]\n",
      "    [0. 0. 0.]]\n",
      "\n",
      "   [[0. 0. 0.]\n",
      "    [0. 0. 0.]\n",
      "    [0. 0. 0.]]\n",
      "\n",
      "   [[0. 0. 0.]\n",
      "    [0. 0. 0.]\n",
      "    [0. 0. 0.]]]\n",
      "\n",
      "\n",
      "  [[[0. 0. 0.]\n",
      "    [0. 0. 0.]\n",
      "    [0. 0. 0.]]\n",
      "\n",
      "   [[0. 0. 0.]\n",
      "    [0. 0. 0.]\n",
      "    [0. 0. 0.]]\n",
      "\n",
      "   [[0. 0. 0.]\n",
      "    [0. 0. 0.]\n",
      "    [0. 0. 0.]]]\n",
      "\n",
      "\n",
      "  [[[0. 0. 0.]\n",
      "    [0. 0. 0.]\n",
      "    [0. 0. 0.]]\n",
      "\n",
      "   [[0. 0. 0.]\n",
      "    [0. 0. 0.]\n",
      "    [0. 0. 0.]]\n",
      "\n",
      "   [[0. 0. 0.]\n",
      "    [0. 0. 0.]\n",
      "    [0. 0. 0.]]]]\n",
      "\n",
      "\n",
      "\n",
      " [[[[0. 0. 0.]\n",
      "    [0. 0. 0.]\n",
      "    [0. 0. 0.]]\n",
      "\n",
      "   [[0. 0. 0.]\n",
      "    [0. 0. 0.]\n",
      "    [0. 0. 0.]]\n",
      "\n",
      "   [[0. 0. 0.]\n",
      "    [0. 0. 0.]\n",
      "    [0. 0. 0.]]]\n",
      "\n",
      "\n",
      "  [[[0. 0. 0.]\n",
      "    [0. 0. 0.]\n",
      "    [0. 0. 0.]]\n",
      "\n",
      "   [[0. 0. 0.]\n",
      "    [0. 0. 0.]\n",
      "    [0. 0. 0.]]\n",
      "\n",
      "   [[0. 0. 0.]\n",
      "    [0. 0. 0.]\n",
      "    [0. 0. 0.]]]\n",
      "\n",
      "\n",
      "  [[[0. 0. 0.]\n",
      "    [0. 0. 0.]\n",
      "    [0. 0. 0.]]\n",
      "\n",
      "   [[0. 0. 0.]\n",
      "    [0. 0. 0.]\n",
      "    [0. 0. 0.]]\n",
      "\n",
      "   [[0. 0. 0.]\n",
      "    [0. 0. 0.]\n",
      "    [0. 0. 0.]]]]\n",
      "\n",
      "\n",
      "\n",
      " [[[[0. 0. 0.]\n",
      "    [0. 0. 0.]\n",
      "    [0. 0. 0.]]\n",
      "\n",
      "   [[0. 0. 0.]\n",
      "    [0. 0. 0.]\n",
      "    [0. 0. 0.]]\n",
      "\n",
      "   [[0. 0. 0.]\n",
      "    [0. 0. 0.]\n",
      "    [0. 0. 0.]]]\n",
      "\n",
      "\n",
      "  [[[0. 0. 0.]\n",
      "    [0. 0. 0.]\n",
      "    [0. 0. 0.]]\n",
      "\n",
      "   [[0. 0. 0.]\n",
      "    [0. 0. 0.]\n",
      "    [0. 0. 0.]]\n",
      "\n",
      "   [[0. 0. 0.]\n",
      "    [0. 0. 0.]\n",
      "    [0. 0. 0.]]]\n",
      "\n",
      "\n",
      "  [[[0. 0. 0.]\n",
      "    [0. 0. 0.]\n",
      "    [0. 0. 0.]]\n",
      "\n",
      "   [[0. 0. 0.]\n",
      "    [0. 0. 0.]\n",
      "    [0. 0. 0.]]\n",
      "\n",
      "   [[0. 0. 0.]\n",
      "    [0. 0. 0.]\n",
      "    [0. 0. 0.]]]]]\n"
     ]
    }
   ],
   "source": [
    "x = np.zeros((3,3,3,3,3))\n",
    "print(x)\n"
   ]
  },
  {
   "cell_type": "code",
   "execution_count": 4,
   "id": "eb7b57fe",
   "metadata": {},
   "outputs": [
    {
     "name": "stdout",
     "output_type": "stream",
     "text": [
      "[[[[[1. 1. 1.]\n",
      "    [1. 1. 1.]\n",
      "    [1. 1. 1.]]\n",
      "\n",
      "   [[1. 1. 1.]\n",
      "    [1. 1. 1.]\n",
      "    [1. 1. 1.]]\n",
      "\n",
      "   [[1. 1. 1.]\n",
      "    [1. 1. 1.]\n",
      "    [1. 1. 1.]]]\n",
      "\n",
      "\n",
      "  [[[1. 1. 1.]\n",
      "    [1. 1. 1.]\n",
      "    [1. 1. 1.]]\n",
      "\n",
      "   [[1. 1. 1.]\n",
      "    [1. 1. 1.]\n",
      "    [1. 1. 1.]]\n",
      "\n",
      "   [[1. 1. 1.]\n",
      "    [1. 1. 1.]\n",
      "    [1. 1. 1.]]]\n",
      "\n",
      "\n",
      "  [[[1. 1. 1.]\n",
      "    [1. 1. 1.]\n",
      "    [1. 1. 1.]]\n",
      "\n",
      "   [[1. 1. 1.]\n",
      "    [1. 1. 1.]\n",
      "    [1. 1. 1.]]\n",
      "\n",
      "   [[1. 1. 1.]\n",
      "    [1. 1. 1.]\n",
      "    [1. 1. 1.]]]]\n",
      "\n",
      "\n",
      "\n",
      " [[[[1. 1. 1.]\n",
      "    [1. 1. 1.]\n",
      "    [1. 1. 1.]]\n",
      "\n",
      "   [[1. 1. 1.]\n",
      "    [1. 1. 1.]\n",
      "    [1. 1. 1.]]\n",
      "\n",
      "   [[1. 1. 1.]\n",
      "    [1. 1. 1.]\n",
      "    [1. 1. 1.]]]\n",
      "\n",
      "\n",
      "  [[[1. 1. 1.]\n",
      "    [1. 1. 1.]\n",
      "    [1. 1. 1.]]\n",
      "\n",
      "   [[1. 1. 1.]\n",
      "    [1. 1. 1.]\n",
      "    [1. 1. 1.]]\n",
      "\n",
      "   [[1. 1. 1.]\n",
      "    [1. 1. 1.]\n",
      "    [1. 1. 1.]]]\n",
      "\n",
      "\n",
      "  [[[1. 1. 1.]\n",
      "    [1. 1. 1.]\n",
      "    [1. 1. 1.]]\n",
      "\n",
      "   [[1. 1. 1.]\n",
      "    [1. 1. 1.]\n",
      "    [1. 1. 1.]]\n",
      "\n",
      "   [[1. 1. 1.]\n",
      "    [1. 1. 1.]\n",
      "    [1. 1. 1.]]]]\n",
      "\n",
      "\n",
      "\n",
      " [[[[1. 1. 1.]\n",
      "    [1. 1. 1.]\n",
      "    [1. 1. 1.]]\n",
      "\n",
      "   [[1. 1. 1.]\n",
      "    [1. 1. 1.]\n",
      "    [1. 1. 1.]]\n",
      "\n",
      "   [[1. 1. 1.]\n",
      "    [1. 1. 1.]\n",
      "    [1. 1. 1.]]]\n",
      "\n",
      "\n",
      "  [[[1. 1. 1.]\n",
      "    [1. 1. 1.]\n",
      "    [1. 1. 1.]]\n",
      "\n",
      "   [[1. 1. 1.]\n",
      "    [1. 1. 1.]\n",
      "    [1. 1. 1.]]\n",
      "\n",
      "   [[1. 1. 1.]\n",
      "    [1. 1. 1.]\n",
      "    [1. 1. 1.]]]\n",
      "\n",
      "\n",
      "  [[[1. 1. 1.]\n",
      "    [1. 1. 1.]\n",
      "    [1. 1. 1.]]\n",
      "\n",
      "   [[1. 1. 1.]\n",
      "    [1. 1. 1.]\n",
      "    [1. 1. 1.]]\n",
      "\n",
      "   [[1. 1. 1.]\n",
      "    [1. 1. 1.]\n",
      "    [1. 1. 1.]]]]]\n"
     ]
    }
   ],
   "source": [
    "y = np.ones((3,3,3,3,3))\n",
    "print(y)\n"
   ]
  },
  {
   "cell_type": "markdown",
   "id": "28791ec3",
   "metadata": {},
   "source": [
    "2. Write a program to create an array of 10 zeros,10 ones, and 10 fives in row 1 2 and 3 which create a new array of shape (3,10)\n"
   ]
  },
  {
   "cell_type": "code",
   "execution_count": 5,
   "id": "b1d07f02",
   "metadata": {},
   "outputs": [
    {
     "data": {
      "text/plain": [
       "array([[0., 0., 0., 0., 0., 0., 0., 0., 0., 0.],\n",
       "       [1., 1., 1., 1., 1., 1., 1., 1., 1., 1.],\n",
       "       [5., 5., 5., 5., 5., 5., 5., 5., 5., 5.]])"
      ]
     },
     "execution_count": 5,
     "metadata": {},
     "output_type": "execute_result"
    }
   ],
   "source": [
    "x = np.array([np.zeros(10), np.ones(10), np.full(10,5)])\n",
    "x"
   ]
  },
  {
   "cell_type": "markdown",
   "id": "af7df9cb",
   "metadata": {},
   "source": [
    "3. Write a program to create a 3x4 matrix filled with values from 10 to 21.\n"
   ]
  },
  {
   "cell_type": "code",
   "execution_count": 6,
   "id": "59b15d3b",
   "metadata": {},
   "outputs": [
    {
     "data": {
      "text/plain": [
       "array([[10, 11, 12, 13],\n",
       "       [14, 15, 16, 17],\n",
       "       [18, 19, 20, 21]])"
      ]
     },
     "execution_count": 6,
     "metadata": {},
     "output_type": "execute_result"
    }
   ],
   "source": [
    "z = np.arange(10,22).reshape(3,4)\n",
    "z"
   ]
  },
  {
   "cell_type": "markdown",
   "id": "3588eb0d",
   "metadata": {},
   "source": [
    "4. Write a program to create a 10x10 zero matrix with elements on the main diagonal equal to 0,1,2,3,4,5,6,7,8,9,\n"
   ]
  },
  {
   "cell_type": "code",
   "execution_count": null,
   "id": "6ebd26e9",
   "metadata": {},
   "outputs": [],
   "source": [
    "x = np.zeros((10,10))\n"
   ]
  },
  {
   "cell_type": "code",
   "execution_count": 7,
   "id": "c06f1937",
   "metadata": {},
   "outputs": [
    {
     "data": {
      "text/plain": [
       "array([[0., 0., 0., 0., 0., 0., 0., 0., 0., 0.],\n",
       "       [1., 1., 1., 1., 1., 1., 1., 1., 1., 1.],\n",
       "       [5., 5., 5., 5., 5., 5., 5., 5., 5., 5.]])"
      ]
     },
     "execution_count": 7,
     "metadata": {},
     "output_type": "execute_result"
    }
   ],
   "source": [
    "x"
   ]
  },
  {
   "cell_type": "markdown",
   "id": "f49b65df",
   "metadata": {},
   "source": [
    "np.fill_diagonal = placing specific pieces (values) on those diagonal squares, leaving the rest of the checkerboard unchanged.\n"
   ]
  },
  {
   "cell_type": "code",
   "execution_count": null,
   "id": "8238acb7",
   "metadata": {},
   "outputs": [],
   "source": [
    "np.fill_diagonal(x, np.arange(10))\n"
   ]
  },
  {
   "cell_type": "code",
   "execution_count": 8,
   "id": "7838dfdb",
   "metadata": {},
   "outputs": [
    {
     "name": "stdout",
     "output_type": "stream",
     "text": [
      "[[0. 0. 0. 0. 0. 0. 0. 0. 0. 0.]\n",
      " [1. 1. 1. 1. 1. 1. 1. 1. 1. 1.]\n",
      " [5. 5. 5. 5. 5. 5. 5. 5. 5. 5.]]\n"
     ]
    }
   ],
   "source": [
    "print(x)"
   ]
  },
  {
   "cell_type": "markdown",
   "id": "85510f7f",
   "metadata": {},
   "source": [
    "5. Write a program to create a 4x4 array. Create an array from below array by swapping first and last, second and third columns.\n"
   ]
  },
  {
   "cell_type": "code",
   "execution_count": null,
   "id": "77af5702",
   "metadata": {},
   "outputs": [],
   "source": [
    "original = np.arange(1,17).reshape(4,4)\n"
   ]
  },
  {
   "cell_type": "code",
   "execution_count": 13,
   "id": "0aab01cd",
   "metadata": {},
   "outputs": [
    {
     "data": {
      "text/plain": [
       "array([[ 1,  2,  3,  4],\n",
       "       [ 5,  6,  7,  8],\n",
       "       [ 9, 10, 11, 12],\n",
       "       [13, 14, 15, 16]])"
      ]
     },
     "execution_count": 13,
     "metadata": {},
     "output_type": "execute_result"
    }
   ],
   "source": [
    "original"
   ]
  },
  {
   "cell_type": "code",
   "execution_count": null,
   "id": "562de722",
   "metadata": {},
   "outputs": [],
   "source": [
    "original[:,(0,-1)] = original[:,(-1,0)]\n"
   ]
  },
  {
   "cell_type": "code",
   "execution_count": null,
   "id": "d134fea0",
   "metadata": {},
   "outputs": [],
   "source": [
    "original[:,(1,2)] = original[:,(2,1)]\n"
   ]
  },
  {
   "cell_type": "code",
   "execution_count": 14,
   "id": "eb32679f",
   "metadata": {},
   "outputs": [
    {
     "data": {
      "text/plain": [
       "array([[ 1,  2,  3,  4],\n",
       "       [ 5,  6,  7,  8],\n",
       "       [ 9, 10, 11, 12],\n",
       "       [13, 14, 15, 16]])"
      ]
     },
     "execution_count": 14,
     "metadata": {},
     "output_type": "execute_result"
    }
   ],
   "source": [
    "original"
   ]
  },
  {
   "cell_type": "markdown",
   "id": "ce793530",
   "metadata": {},
   "source": [
    "6. Write a program to reverse an array (the first element becomes the last).\n"
   ]
  },
  {
   "cell_type": "markdown",
   "id": "d2cbf8df",
   "metadata": {},
   "source": [
    "Given array: [12 13 14 15 16 17 18 19 20 21 22 23 24 25 26 27 ]\n",
    "\n"
   ]
  },
  {
   "cell_type": "code",
   "execution_count": null,
   "id": "c6940cc1",
   "metadata": {},
   "outputs": [],
   "source": [
    "x = np.arange(12,28)\n"
   ]
  },
  {
   "cell_type": "code",
   "execution_count": 15,
   "id": "e7cf982b",
   "metadata": {},
   "outputs": [
    {
     "data": {
      "text/plain": [
       "array([[0., 0., 0., 0., 0., 0., 0., 0., 0., 0.],\n",
       "       [1., 1., 1., 1., 1., 1., 1., 1., 1., 1.],\n",
       "       [5., 5., 5., 5., 5., 5., 5., 5., 5., 5.]])"
      ]
     },
     "execution_count": 15,
     "metadata": {},
     "output_type": "execute_result"
    }
   ],
   "source": [
    "x"
   ]
  },
  {
   "cell_type": "code",
   "execution_count": 16,
   "id": "400acfd1",
   "metadata": {},
   "outputs": [
    {
     "data": {
      "text/plain": [
       "array([[5., 5., 5., 5., 5., 5., 5., 5., 5., 5.],\n",
       "       [1., 1., 1., 1., 1., 1., 1., 1., 1., 1.],\n",
       "       [0., 0., 0., 0., 0., 0., 0., 0., 0., 0.]])"
      ]
     },
     "execution_count": 16,
     "metadata": {},
     "output_type": "execute_result"
    }
   ],
   "source": [
    "x[::-1] # to print reverse of the above array using the negative slicing.\n"
   ]
  },
  {
   "cell_type": "markdown",
   "id": "ed12dfd4",
   "metadata": {},
   "source": [
    "7. Write a program to access all the elements greater than 30 and less than 80 and multiples of 5 from an array of shape 10,10 .Elements range from 1 to 100\n"
   ]
  },
  {
   "cell_type": "code",
   "execution_count": 20,
   "id": "3c380880",
   "metadata": {},
   "outputs": [],
   "source": [
    "matrix = np.arange(1,101).reshape(10,10)\n"
   ]
  },
  {
   "cell_type": "code",
   "execution_count": 21,
   "id": "2ac13170",
   "metadata": {},
   "outputs": [
    {
     "data": {
      "text/plain": [
       "array([[  1,   2,   3,   4,   5,   6,   7,   8,   9,  10],\n",
       "       [ 11,  12,  13,  14,  15,  16,  17,  18,  19,  20],\n",
       "       [ 21,  22,  23,  24,  25,  26,  27,  28,  29,  30],\n",
       "       [ 31,  32,  33,  34,  35,  36,  37,  38,  39,  40],\n",
       "       [ 41,  42,  43,  44,  45,  46,  47,  48,  49,  50],\n",
       "       [ 51,  52,  53,  54,  55,  56,  57,  58,  59,  60],\n",
       "       [ 61,  62,  63,  64,  65,  66,  67,  68,  69,  70],\n",
       "       [ 71,  72,  73,  74,  75,  76,  77,  78,  79,  80],\n",
       "       [ 81,  82,  83,  84,  85,  86,  87,  88,  89,  90],\n",
       "       [ 91,  92,  93,  94,  95,  96,  97,  98,  99, 100]])"
      ]
     },
     "execution_count": 21,
     "metadata": {},
     "output_type": "execute_result"
    }
   ],
   "source": [
    "matrix"
   ]
  },
  {
   "cell_type": "markdown",
   "id": "e5f4e4c3",
   "metadata": {},
   "source": [
    "## np.where = helps you find the indices where a certain condition is true in an array\n",
    "1.indices = np.where(condition)\n",
    "2.condition is a boolean condition applied to an array.\n",
    "3.np.where returns the indices where the condition is true\n"
   ]
  },
  {
   "cell_type": "code",
   "execution_count": null,
   "id": "d6a1343b",
   "metadata": {},
   "outputs": [],
   "source": [
    "multiples = matrix[np.where((matrix > 30) & (matrix < 80) & (matrix % 5 == 0))]\n"
   ]
  },
  {
   "cell_type": "code",
   "execution_count": 25,
   "id": "ce99176c",
   "metadata": {},
   "outputs": [],
   "source": [
    "multiples = matrix[np.where((matrix > 30) & (matrix < 80) & (matrix % 5 == 0))]\n"
   ]
  },
  {
   "cell_type": "code",
   "execution_count": 26,
   "id": "5b42054f",
   "metadata": {},
   "outputs": [
    {
     "data": {
      "text/plain": [
       "array([35, 40, 45, 50, 55, 60, 65, 70, 75])"
      ]
     },
     "execution_count": 26,
     "metadata": {},
     "output_type": "execute_result"
    }
   ],
   "source": [
    "multiples"
   ]
  },
  {
   "cell_type": "markdown",
   "id": "ce6b2c3d",
   "metadata": {},
   "source": [
    "8. Write a program to create a 2D array with 1 on the border and 0 inside.\n"
   ]
  },
  {
   "cell_type": "code",
   "execution_count": null,
   "id": "8df7ca15",
   "metadata": {},
   "outputs": [],
   "source": [
    "x,y = 10,10\n"
   ]
  },
  {
   "cell_type": "code",
   "execution_count": 27,
   "id": "c045a165",
   "metadata": {},
   "outputs": [
    {
     "ename": "TypeError",
     "evalue": "only integer scalar arrays can be converted to a scalar index",
     "output_type": "error",
     "traceback": [
      "\u001b[1;31m---------------------------------------------------------------------------\u001b[0m",
      "\u001b[1;31mTypeError\u001b[0m                                 Traceback (most recent call last)",
      "Cell \u001b[1;32mIn[27], line 1\u001b[0m\n\u001b[1;32m----> 1\u001b[0m z\u001b[38;5;241m=\u001b[39m np\u001b[38;5;241m.\u001b[39mones((x,y), dtype \u001b[38;5;241m=\u001b[39m \u001b[38;5;28mint\u001b[39m)\n",
      "File \u001b[1;32mC:\\ProgramData\\anaconda3\\Lib\\site-packages\\numpy\\core\\numeric.py:205\u001b[0m, in \u001b[0;36mones\u001b[1;34m(shape, dtype, order, like)\u001b[0m\n\u001b[0;32m    202\u001b[0m \u001b[38;5;28;01mif\u001b[39;00m like \u001b[38;5;129;01mis\u001b[39;00m \u001b[38;5;129;01mnot\u001b[39;00m \u001b[38;5;28;01mNone\u001b[39;00m:\n\u001b[0;32m    203\u001b[0m     \u001b[38;5;28;01mreturn\u001b[39;00m _ones_with_like(shape, dtype\u001b[38;5;241m=\u001b[39mdtype, order\u001b[38;5;241m=\u001b[39morder, like\u001b[38;5;241m=\u001b[39mlike)\n\u001b[1;32m--> 205\u001b[0m a \u001b[38;5;241m=\u001b[39m empty(shape, dtype, order)\n\u001b[0;32m    206\u001b[0m multiarray\u001b[38;5;241m.\u001b[39mcopyto(a, \u001b[38;5;241m1\u001b[39m, casting\u001b[38;5;241m=\u001b[39m\u001b[38;5;124m'\u001b[39m\u001b[38;5;124munsafe\u001b[39m\u001b[38;5;124m'\u001b[39m)\n\u001b[0;32m    207\u001b[0m \u001b[38;5;28;01mreturn\u001b[39;00m a\n",
      "\u001b[1;31mTypeError\u001b[0m: only integer scalar arrays can be converted to a scalar index"
     ]
    }
   ],
   "source": [
    "z= np.ones((x,y), dtype = int)\n"
   ]
  },
  {
   "cell_type": "code",
   "execution_count": null,
   "id": "111bc5ab",
   "metadata": {},
   "outputs": [],
   "source": [
    "z= np.ones((x,y), dtype = int)\n"
   ]
  },
  {
   "cell_type": "code",
   "execution_count": 28,
   "id": "c91bc972",
   "metadata": {},
   "outputs": [
    {
     "data": {
      "text/plain": [
       "array([[10, 11, 12, 13],\n",
       "       [14, 15, 16, 17],\n",
       "       [18, 19, 20, 21]])"
      ]
     },
     "execution_count": 28,
     "metadata": {},
     "output_type": "execute_result"
    }
   ],
   "source": [
    "z"
   ]
  },
  {
   "cell_type": "code",
   "execution_count": null,
   "id": "6fe56139",
   "metadata": {},
   "outputs": [],
   "source": [
    "z[1:-1, 1:-1] = 0 # making middle values as zero's and making rows \n",
    "                        # and columns one's\n"
   ]
  },
  {
   "cell_type": "code",
   "execution_count": 29,
   "id": "f36cdb2b",
   "metadata": {},
   "outputs": [
    {
     "data": {
      "text/plain": [
       "array([[10, 11, 12, 13],\n",
       "       [14, 15, 16, 17],\n",
       "       [18, 19, 20, 21]])"
      ]
     },
     "execution_count": 29,
     "metadata": {},
     "output_type": "execute_result"
    }
   ],
   "source": [
    "z"
   ]
  },
  {
   "cell_type": "markdown",
   "id": "d9a009c6",
   "metadata": {},
   "source": [
    "9. Write a program to create a checkerboard pattern .Don't use default array function\n",
    "Checkerboard pattern:\n",
    "[[0 1 0 1 0 1 0 1]\n",
    "[1 0 1 0 1 0 1 0]\n",
    "[0 1 0 1 0 1 0 1]\n",
    "[1 0 1 0 1 0 1 0]\n",
    "[0 1 0 1 0 1 0 1]\n",
    "[1 0 1 0 1 0 1 0]\n",
    "[0 1 0 1 0 1 0 1]\n",
    "[1 0 1 0 1 0 1 0]]\n",
    "\n"
   ]
  },
  {
   "cell_type": "code",
   "execution_count": 33,
   "id": "18c6b272",
   "metadata": {},
   "outputs": [],
   "source": [
    "x,y = 10,10\n"
   ]
  },
  {
   "cell_type": "code",
   "execution_count": 34,
   "id": "9dbc626d",
   "metadata": {},
   "outputs": [],
   "source": [
    "z= np.zeros((x,y), dtype = int)\n"
   ]
  },
  {
   "cell_type": "code",
   "execution_count": 35,
   "id": "834a58c1",
   "metadata": {},
   "outputs": [
    {
     "data": {
      "text/plain": [
       "array([[0, 0, 0, 0, 0, 0, 0, 0, 0, 0],\n",
       "       [0, 0, 0, 0, 0, 0, 0, 0, 0, 0],\n",
       "       [0, 0, 0, 0, 0, 0, 0, 0, 0, 0],\n",
       "       [0, 0, 0, 0, 0, 0, 0, 0, 0, 0],\n",
       "       [0, 0, 0, 0, 0, 0, 0, 0, 0, 0],\n",
       "       [0, 0, 0, 0, 0, 0, 0, 0, 0, 0],\n",
       "       [0, 0, 0, 0, 0, 0, 0, 0, 0, 0],\n",
       "       [0, 0, 0, 0, 0, 0, 0, 0, 0, 0],\n",
       "       [0, 0, 0, 0, 0, 0, 0, 0, 0, 0],\n",
       "       [0, 0, 0, 0, 0, 0, 0, 0, 0, 0]])"
      ]
     },
     "execution_count": 35,
     "metadata": {},
     "output_type": "execute_result"
    }
   ],
   "source": [
    "z"
   ]
  },
  {
   "cell_type": "code",
   "execution_count": null,
   "id": "5e411956",
   "metadata": {},
   "outputs": [],
   "source": [
    "z[1::2, ::2] = 1 # places 1's value in every 2-step\n"
   ]
  },
  {
   "cell_type": "code",
   "execution_count": 36,
   "id": "00184d92",
   "metadata": {},
   "outputs": [
    {
     "data": {
      "text/plain": [
       "array([[0, 0, 0, 0, 0, 0, 0, 0, 0, 0],\n",
       "       [0, 0, 0, 0, 0, 0, 0, 0, 0, 0],\n",
       "       [0, 0, 0, 0, 0, 0, 0, 0, 0, 0],\n",
       "       [0, 0, 0, 0, 0, 0, 0, 0, 0, 0],\n",
       "       [0, 0, 0, 0, 0, 0, 0, 0, 0, 0],\n",
       "       [0, 0, 0, 0, 0, 0, 0, 0, 0, 0],\n",
       "       [0, 0, 0, 0, 0, 0, 0, 0, 0, 0],\n",
       "       [0, 0, 0, 0, 0, 0, 0, 0, 0, 0],\n",
       "       [0, 0, 0, 0, 0, 0, 0, 0, 0, 0],\n",
       "       [0, 0, 0, 0, 0, 0, 0, 0, 0, 0]])"
      ]
     },
     "execution_count": 36,
     "metadata": {},
     "output_type": "execute_result"
    }
   ],
   "source": [
    "z"
   ]
  },
  {
   "cell_type": "code",
   "execution_count": null,
   "id": "d58cc591",
   "metadata": {},
   "outputs": [],
   "source": [
    "z[::2, 1::2] = 1 # places 1's value in every 1-step \n"
   ]
  },
  {
   "cell_type": "code",
   "execution_count": 37,
   "id": "3473ea3e",
   "metadata": {},
   "outputs": [
    {
     "data": {
      "text/plain": [
       "array([[0, 0, 0, 0, 0, 0, 0, 0, 0, 0],\n",
       "       [0, 0, 0, 0, 0, 0, 0, 0, 0, 0],\n",
       "       [0, 0, 0, 0, 0, 0, 0, 0, 0, 0],\n",
       "       [0, 0, 0, 0, 0, 0, 0, 0, 0, 0],\n",
       "       [0, 0, 0, 0, 0, 0, 0, 0, 0, 0],\n",
       "       [0, 0, 0, 0, 0, 0, 0, 0, 0, 0],\n",
       "       [0, 0, 0, 0, 0, 0, 0, 0, 0, 0],\n",
       "       [0, 0, 0, 0, 0, 0, 0, 0, 0, 0],\n",
       "       [0, 0, 0, 0, 0, 0, 0, 0, 0, 0],\n",
       "       [0, 0, 0, 0, 0, 0, 0, 0, 0, 0]])"
      ]
     },
     "execution_count": 37,
     "metadata": {},
     "output_type": "execute_result"
    }
   ],
   "source": [
    "z"
   ]
  },
  {
   "cell_type": "markdown",
   "id": "2f66357a",
   "metadata": {},
   "source": [
    "11. Write a program to create an array 2d array and then reshape into 1d array\n"
   ]
  },
  {
   "cell_type": "code",
   "execution_count": 40,
   "id": "c67f0446",
   "metadata": {},
   "outputs": [],
   "source": [
    "s = np.arange(1,5).reshape(2,2)\n"
   ]
  },
  {
   "cell_type": "code",
   "execution_count": 41,
   "id": "7507f8aa",
   "metadata": {},
   "outputs": [
    {
     "data": {
      "text/plain": [
       "array([[1, 2],\n",
       "       [3, 4]])"
      ]
     },
     "execution_count": 41,
     "metadata": {},
     "output_type": "execute_result"
    }
   ],
   "source": [
    "s"
   ]
  },
  {
   "cell_type": "markdown",
   "id": "e3b4704c",
   "metadata": {},
   "source": [
    "np.reshape(-1) = reshape an array when you want one of the dimensions to be automatically determined based on the length of the array.\n"
   ]
  },
  {
   "cell_type": "code",
   "execution_count": 42,
   "id": "8a60fde2",
   "metadata": {},
   "outputs": [],
   "source": [
    "a = s.reshape(-1)\n"
   ]
  },
  {
   "cell_type": "code",
   "execution_count": 43,
   "id": "03460da2",
   "metadata": {},
   "outputs": [
    {
     "data": {
      "text/plain": [
       "array([1, 2, 3, 4])"
      ]
     },
     "execution_count": 43,
     "metadata": {},
     "output_type": "execute_result"
    }
   ],
   "source": [
    "a"
   ]
  },
  {
   "cell_type": "code",
   "execution_count": null,
   "id": "18b4a639",
   "metadata": {},
   "outputs": [],
   "source": []
  },
  {
   "cell_type": "code",
   "execution_count": null,
   "id": "c53a92b6",
   "metadata": {},
   "outputs": [],
   "source": []
  }
 ],
 "metadata": {
  "kernelspec": {
   "display_name": "Python 3 (ipykernel)",
   "language": "python",
   "name": "python3"
  },
  "language_info": {
   "codemirror_mode": {
    "name": "ipython",
    "version": 3
   },
   "file_extension": ".py",
   "mimetype": "text/x-python",
   "name": "python",
   "nbconvert_exporter": "python",
   "pygments_lexer": "ipython3",
   "version": "3.11.5"
  }
 },
 "nbformat": 4,
 "nbformat_minor": 5
}
